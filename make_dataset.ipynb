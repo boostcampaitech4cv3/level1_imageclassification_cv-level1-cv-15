{
 "cells": [
  {
   "cell_type": "code",
   "execution_count": 1,
   "metadata": {},
   "outputs": [],
   "source": [
    "from rembg import remove\n",
    "import numpy as np\n",
    "import cv2\n",
    "from scipy import ndimage\n",
    "import matplotlib.pyplot as plt"
   ]
  },
  {
   "cell_type": "code",
   "execution_count": null,
   "metadata": {},
   "outputs": [],
   "source": [
    "image_path='input/data/train/images'\n",
    "save_path='train_crop_image'"
   ]
  },
  {
   "cell_type": "code",
   "execution_count": null,
   "metadata": {},
   "outputs": [],
   "source": [
    "import os\n",
    "for d in os.listdir(image_path): \n",
    "    if d[0]=='.':\n",
    "        continue\n",
    "    path=os.path.join(image_path,d)\n",
    "\n",
    "    for file in os.listdir(path):\n",
    "        if file[0]=='.':\n",
    "            continue\n",
    "        else:\n",
    "            path_now=os.path.join(path,file)\n",
    "            image=cv2.imread(path_now)\n",
    "            image=remove(image)\n",
    "            if os.path.isfile(os.path.join(dir,file)):\n",
    "                continue\n",
    "            if not os.path.isdir(dir):\n",
    "                os.mkdir(dir)\n",
    "            save_image=os.path.join(dir,file)\n",
    "            cv2.imwrite(save_image,image)\n"
   ]
  }
 ],
 "metadata": {
  "kernelspec": {
   "display_name": "Python 3.8.5 ('base')",
   "language": "python",
   "name": "python3"
  },
  "language_info": {
   "codemirror_mode": {
    "name": "ipython",
    "version": 3
   },
   "file_extension": ".py",
   "mimetype": "text/x-python",
   "name": "python",
   "nbconvert_exporter": "python",
   "pygments_lexer": "ipython3",
   "version": "3.8.5"
  },
  "orig_nbformat": 4,
  "vscode": {
   "interpreter": {
    "hash": "d4d1e4263499bec80672ea0156c357c1ee493ec2b1c70f0acce89fc37c4a6abe"
   }
  }
 },
 "nbformat": 4,
 "nbformat_minor": 2
}
